{
  "cells": [
    {
      "cell_type": "markdown",
      "source": [
        "Before you start the training step, [enable](https://www.geeksforgeeks.org/how-to-use-gpu-in-google-colab/) GPU acceleration in your Colab environment."
      ],
      "metadata": {
        "id": "dkR2QqUvDaT5"
      }
    },
    {
      "cell_type": "code",
      "execution_count": null,
      "metadata": {
        "id": "uKrQTRZ6LNbj"
      },
      "outputs": [],
      "source": [
        "import os\n",
        "HOME = os.getcwd()\n",
        "print(HOME)"
      ]
    },
    {
      "cell_type": "markdown",
      "source": [
        "Check GPU status :"
      ],
      "metadata": {
        "id": "QkEa1_r9D--9"
      }
    },
    {
      "cell_type": "code",
      "execution_count": 5,
      "metadata": {
        "colab": {
          "base_uri": "https://localhost:8080/"
        },
        "id": "J30oJowpMr95",
        "outputId": "dcf5523b-ca08-4c6c-f791-ae61df18570f"
      },
      "outputs": [
        {
          "output_type": "stream",
          "name": "stdout",
          "text": [
            "Wed Jan 17 20:14:43 2024       \n",
            "+---------------------------------------------------------------------------------------+\n",
            "| NVIDIA-SMI 535.104.05             Driver Version: 535.104.05   CUDA Version: 12.2     |\n",
            "|-----------------------------------------+----------------------+----------------------+\n",
            "| GPU  Name                 Persistence-M | Bus-Id        Disp.A | Volatile Uncorr. ECC |\n",
            "| Fan  Temp   Perf          Pwr:Usage/Cap |         Memory-Usage | GPU-Util  Compute M. |\n",
            "|                                         |                      |               MIG M. |\n",
            "|=========================================+======================+======================|\n",
            "|   0  Tesla T4                       Off | 00000000:00:04.0 Off |                    0 |\n",
            "| N/A   33C    P8               9W /  70W |      0MiB / 15360MiB |      0%      Default |\n",
            "|                                         |                      |                  N/A |\n",
            "+-----------------------------------------+----------------------+----------------------+\n",
            "                                                                                         \n",
            "+---------------------------------------------------------------------------------------+\n",
            "| Processes:                                                                            |\n",
            "|  GPU   GI   CI        PID   Type   Process name                            GPU Memory |\n",
            "|        ID   ID                                                             Usage      |\n",
            "|=======================================================================================|\n",
            "|  No running processes found                                                           |\n",
            "+---------------------------------------------------------------------------------------+\n"
          ]
        }
      ],
      "source": [
        "!nvidia-smi"
      ]
    },
    {
      "cell_type": "markdown",
      "source": [
        "Install Ultralytics dependencies:"
      ],
      "metadata": {
        "id": "ouXpaIyZEGEH"
      }
    },
    {
      "cell_type": "code",
      "execution_count": null,
      "metadata": {
        "id": "LpixlF1kNUCb"
      },
      "outputs": [],
      "source": [
        "!pip install ultralytics==8.0.196\n",
        "#!pip install ultralytics\n",
        "\n",
        "from IPython import display\n",
        "display.clear_output()\n",
        "\n",
        "import ultralytics\n",
        "ultralytics.checks()"
      ]
    },
    {
      "cell_type": "code",
      "execution_count": null,
      "metadata": {
        "id": "c2K-aNhMNuMp"
      },
      "outputs": [],
      "source": [
        "from ultralytics import YOLO\n",
        "\n",
        "from IPython.display import display, Image"
      ]
    },
    {
      "cell_type": "markdown",
      "source": [
        "To download the PLDataset with the annotations in YOLOv8 format, go to the [link](https://universe.roboflow.com/pltdataset-cpx3u/power-lines-dataset), click on 'Download this Dataset', and log in to your Roboflow account. Then, choose the YOLOv8 annotation format and check the 'show download code' option. A code like this one will be generated :\n",
        "\n",
        "```\n",
        "!pip install roboflow\n",
        "\n",
        "from roboflow import Roboflow\n",
        "rf = Roboflow(api_key=\"YOUR_API_KEY\")\n",
        "project = rf.workspace(\"pltdataset-cpx3u\").project(\"power-lines-dataset\")\n",
        "dataset = project.version(1).download(\"yolov8\")\n",
        "```\n",
        "\n",
        "Insert this code in the box below."
      ],
      "metadata": {
        "id": "JLmp5bX673Q9"
      }
    },
    {
      "cell_type": "code",
      "execution_count": null,
      "metadata": {
        "id": "FBKtU7X-OELc"
      },
      "outputs": [],
      "source": [
        "!mkdir {HOME}/datasets\n",
        "%cd {HOME}/datasets\n",
        "\n",
        "'''\n",
        "!pip install roboflow\n",
        "\n",
        "from roboflow import Roboflow\n",
        "rf = Roboflow(api_key=\"YOUR_API_KEY\")\n",
        "project = rf.workspace(\"pltdataset-cpx3u\").project(\"power-lines-dataset\")\n",
        "dataset = project.version(1).download(\"yolov8\")\n",
        "'''\n"
      ]
    },
    {
      "cell_type": "markdown",
      "source": [
        "Log in to your Google Drive account to store the training weights."
      ],
      "metadata": {
        "id": "fMNtmopVClD_"
      }
    },
    {
      "cell_type": "code",
      "execution_count": 1,
      "metadata": {
        "colab": {
          "base_uri": "https://localhost:8080/"
        },
        "id": "S1bde-hoayX8",
        "outputId": "6ff6fd94-23a0-4f9d-de71-0d300fe3ecbe"
      },
      "outputs": [
        {
          "output_type": "stream",
          "name": "stdout",
          "text": [
            "/\n",
            "Mounted at /content/gdrive\n"
          ]
        }
      ],
      "source": [
        "%cd ..\n",
        "from google.colab import drive\n",
        "drive.mount('/content/gdrive')"
      ]
    },
    {
      "cell_type": "markdown",
      "source": [
        "Start the training :"
      ],
      "metadata": {
        "id": "oD_tL0A4CzQs"
      }
    },
    {
      "cell_type": "code",
      "execution_count": null,
      "metadata": {
        "id": "_QPFsSkVOpVP"
      },
      "outputs": [],
      "source": [
        "#%cd {HOME}\n",
        "\n",
        "if os.path.isdir('/content/gdrive/MyDrive/yolov8/results') is False:\n",
        "  os.mkdir('/content/gdrive/MyDrive/yolov8a/results')\n",
        "\n",
        "%cd /content/gdrive/MyDrive/yolov8/results\n",
        "\n",
        "#You can choose which yolov8 model is going to be used. (Check https://docs.ultralytics.com/tasks/segment/ for details)\n",
        "\n",
        "!yolo task=segment mode=train model=yolov8n-seg.pt data={dataset.location}/data.yaml epochs=300 imgsz=640 patience=0\n",
        "\n"
      ]
    },
    {
      "cell_type": "markdown",
      "source": [
        "At the end the YOLOv8 weights will be stored on '/content/gdrive/MyDrive/yolov8a/results/run'\n"
      ],
      "metadata": {
        "id": "MRJ2rB-6C-dI"
      }
    }
  ],
  "metadata": {
    "accelerator": "GPU",
    "colab": {
      "provenance": []
    },
    "gpuClass": "standard",
    "kernelspec": {
      "display_name": "Python 3",
      "name": "python3"
    },
    "language_info": {
      "name": "python"
    }
  },
  "nbformat": 4,
  "nbformat_minor": 0
}